{
 "cells": [
  {
   "cell_type": "code",
   "execution_count": 1,
   "metadata": {},
   "outputs": [],
   "source": [
    "import numpy as np\n",
    "import cv2\n",
    "import glob"
   ]
  },
  {
   "cell_type": "code",
   "execution_count": 2,
   "metadata": {},
   "outputs": [],
   "source": [
    "# フォルダから画像のパスの取得\n",
    "input_dir = './data/CamVid/train/'\n",
    "files = glob.glob(input_dir + '*')\n",
    "files = [file.replace(\"\\\\\",\"/\") for file in files]"
   ]
  },
  {
   "cell_type": "code",
   "execution_count": 3,
   "metadata": {},
   "outputs": [],
   "source": [
    "def channel_brightness_mean_std(image):\n",
    "    # 画像の読み込み\n",
    "    img = cv2.imread(image,1)\n",
    "    \n",
    "    # 画像のコピー\n",
    "    img_b = img.copy()  \n",
    "    img_g = img.copy()\n",
    "    img_r = img.copy() \n",
    "    \n",
    "    img_b[:, :, (1, 2)] = 0  # g(緑)、r(赤)の輝度を0に\n",
    "    img_g[:, :, (0, 2)] = 0  # b(青)、r(赤)の輝度を0に\n",
    "    img_r[:, :, (0, 1)] = 0  # b(青)、g(緑)の輝度を0に\n",
    "    \n",
    "    # 一次元配列化\n",
    "    img_b = np.array(img_b).flatten()\n",
    "    img_g = np.array(img_g).flatten()\n",
    "    img_r = np.array(img_r).flatten()\n",
    "    \n",
    "    # 平均値\n",
    "    mean_img_b = np.mean(img_b)/255\n",
    "    mean_img_g = np.mean(img_g)/255\n",
    "    mean_img_r = np.mean(img_r)/255\n",
    "\n",
    "    # 標準偏差             \n",
    "    std_img_b = np.std(img_b)/255  \n",
    "    std_img_g = np.std(img_g)/255 \n",
    "    std_img_r = np.std(img_r)/255 \n",
    "    \n",
    "    return mean_img_b, mean_img_g, mean_img_r, std_img_b , std_img_g , std_img_r"
   ]
  },
  {
   "cell_type": "code",
   "execution_count": 4,
   "metadata": {},
   "outputs": [],
   "source": [
    "# フォルダ内の画像の明度の平均と標準偏差の合計\n",
    "sum_mean_img_b = 0\n",
    "sum_mean_img_g = 0\n",
    "sum_mean_img_r = 0\n",
    "sum_std_img_b = 0\n",
    "sum_std_img_g = 0\n",
    "sum_std_img_r = 0\n",
    "for f in files:\n",
    "    mean_img_b, mean_img_g, mean_img_r, std_img_b , std_img_g , std_img_r = channel_brightness_mean_std(f)\n",
    "    sum_mean_img_b += mean_img_b\n",
    "    sum_mean_img_g += mean_img_g\n",
    "    sum_mean_img_r += mean_img_r\n",
    "    sum_std_img_b += std_img_b\n",
    "    sum_std_img_g += std_img_g\n",
    "    sum_std_img_r += std_img_r"
   ]
  },
  {
   "cell_type": "code",
   "execution_count": 7,
   "metadata": {},
   "outputs": [
    {
     "name": "stdout",
     "output_type": "stream",
     "text": [
      "mean: 0.14422356396640795 , 0.14171093222837616 , 0.13729829240203484\n",
      "std: 0.26275459476830104 , 0.2610903978634243 , 0.25227251796205435\n"
     ]
    }
   ],
   "source": [
    "print('mean:', sum_mean_img_b/len(files), ',',  sum_mean_img_g/len(files), ',', sum_mean_img_r/len(files))\n",
    "print('std:', sum_std_img_b/len(files), ',', sum_std_img_g/len(files), ',', sum_std_img_r/len(files))"
   ]
  },
  {
   "cell_type": "code",
   "execution_count": null,
   "metadata": {},
   "outputs": [],
   "source": []
  }
 ],
 "metadata": {
  "kernelspec": {
   "display_name": "Python 3",
   "language": "python",
   "name": "python3"
  },
  "language_info": {
   "codemirror_mode": {
    "name": "ipython",
    "version": 3
   },
   "file_extension": ".py",
   "mimetype": "text/x-python",
   "name": "python",
   "nbconvert_exporter": "python",
   "pygments_lexer": "ipython3",
   "version": "3.8.5"
  }
 },
 "nbformat": 4,
 "nbformat_minor": 5
}
